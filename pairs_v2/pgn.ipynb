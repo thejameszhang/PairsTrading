{
 "cells": [
  {
   "cell_type": "code",
   "execution_count": 2,
   "metadata": {},
   "outputs": [],
   "source": [
    "from GoogleNews import GoogleNews"
   ]
  },
  {
   "cell_type": "code",
   "execution_count": 31,
   "metadata": {},
   "outputs": [],
   "source": [
    "googlenews = GoogleNews()\n",
    "googlenews = GoogleNews(lang='en')\n",
    "googlenews = GoogleNews(start='02/01/2007',end='02/28/2007')\n",
    "googlenews.search(\"FACEBOOK\")\n",
    "result = googlenews.results()"
   ]
  },
  {
   "cell_type": "code",
   "execution_count": 32,
   "metadata": {},
   "outputs": [
    {
     "data": {
      "text/plain": [
       "{'title': \"Aaron's closes, but Fifth's future is bright • Brooklyn Paper\",\n",
       " 'media': 'Brooklyn Paper',\n",
       " 'date': 'Feb 17, 2007',\n",
       " 'datetime': nan,\n",
       " 'desc': \"Facebook Twitter Share. A popular woman's department store on Park Slope's Fifth Avenue has closed — even as its owner is working to create a business...\",\n",
       " 'link': 'https://www.brooklynpaper.com/aarons-closes-but-fifths-future-is-bright/',\n",
       " 'img': 'data:image/gif;base64,R0lGODlhAQABAIAAAP///////yH5BAEKAAEALAAAAAABAAEAAAICTAEAOw=='}"
      ]
     },
     "execution_count": 32,
     "metadata": {},
     "output_type": "execute_result"
    }
   ],
   "source": [
    "result[-1]"
   ]
  },
  {
   "cell_type": "code",
   "execution_count": 33,
   "metadata": {},
   "outputs": [
    {
     "data": {
      "text/plain": [
       "10"
      ]
     },
     "execution_count": 33,
     "metadata": {},
     "output_type": "execute_result"
    }
   ],
   "source": [
    "len(result)"
   ]
  },
  {
   "cell_type": "code",
   "execution_count": 34,
   "metadata": {},
   "outputs": [],
   "source": [
    "googlenews.clear()"
   ]
  }
 ],
 "metadata": {
  "kernelspec": {
   "display_name": "base",
   "language": "python",
   "name": "python3"
  },
  "language_info": {
   "codemirror_mode": {
    "name": "ipython",
    "version": 3
   },
   "file_extension": ".py",
   "mimetype": "text/x-python",
   "name": "python",
   "nbconvert_exporter": "python",
   "pygments_lexer": "ipython3",
   "version": "3.9.12"
  },
  "orig_nbformat": 4
 },
 "nbformat": 4,
 "nbformat_minor": 2
}
